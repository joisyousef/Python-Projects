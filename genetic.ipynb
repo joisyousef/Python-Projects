{
 "cells": [
  {
   "cell_type": "markdown",
   "id": "0e475ace",
   "metadata": {},
   "source": [
    "# Genetic Algorithm Test\n",
    "\n",
    "Complete the `crossover` and `mutation` functions"
   ]
  },
  {
   "cell_type": "code",
   "execution_count": null,
   "id": "522d5ecf",
   "metadata": {},
   "outputs": [],
   "source": [
    "import numpy as np\n",
    "\n",
    "def init_pop(pop_size):\n",
    "    return np.random.randint(8, size=(pop_size, 8))"
   ]
  },
  {
   "cell_type": "code",
   "execution_count": null,
   "id": "74e8f957",
   "metadata": {},
   "outputs": [],
   "source": [
    "initial_population = init_pop(4)\n",
    "print(initial_population)"
   ]
  },
  {
   "cell_type": "code",
   "execution_count": null,
   "id": "40b8b5de",
   "metadata": {},
   "outputs": [],
   "source": [
    "def calc_fitness(population):\n",
    "    fitness_vals = []\n",
    "    for x in population:\n",
    "        penalty = 0\n",
    "        for i in range(8):\n",
    "            r = x[i]\n",
    "            for j in range(8):\n",
    "                if i == j:\n",
    "                    continue\n",
    "                d = abs(i - j)\n",
    "                if x[j] in (r, r-d, r+d):\n",
    "                    penalty += 1\n",
    "        fitness_vals.append(penalty)\n",
    "    return -1 * np.array(fitness_vals)"
   ]
  },
  {
   "cell_type": "code",
   "execution_count": null,
   "id": "a5dba413",
   "metadata": {},
   "outputs": [],
   "source": [
    "fitness_vals = calc_fitness(initial_population)\n",
    "print(fitness_vals)"
   ]
  },
  {
   "cell_type": "code",
   "execution_count": null,
   "id": "62836ea8",
   "metadata": {},
   "outputs": [],
   "source": [
    "def selection(population, fitness_vals):\n",
    "    probs = fitness_vals.copy()\n",
    "    probs += abs(probs.min()) + 1\n",
    "    probs = probs/probs.sum()\n",
    "    N = len(population)\n",
    "    indices = np.arange(N)\n",
    "    selected_indices = np.random.choice(indices, size=N, p=probs)\n",
    "    selected_population = population[selected_indices]\n",
    "    return selected_population"
   ]
  },
  {
   "cell_type": "code",
   "execution_count": null,
   "id": "be4a6e9c",
   "metadata": {},
   "outputs": [],
   "source": [
    "selected_population = selection(initial_population, fitness_vals)\n",
    "print(selected_population)"
   ]
  },
  {
   "cell_type": "code",
   "execution_count": null,
   "id": "751d1b87",
   "metadata": {},
   "outputs": [],
   "source": [
    "def crossover(parent1, parent2, pc):\n",
    "    r=np.random.random()\n",
    "    if r < pc:\n",
    "        m=np.random.radint(1,8)#1-7\n",
    "        child1=np.concatenate([parent1[:m],parent2[m:]])\n",
    "        child2=np.concatenate([parent2[:m],parent1[m:]])\n",
    "    else:\n",
    "         child1=parent1.copy()\n",
    "         child2=parent2.copy()\n",
    "    return child1,child2 "
   ]
  },
  {
   "cell_type": "code",
   "execution_count": null,
   "id": "a73b508d",
   "metadata": {},
   "outputs": [],
   "source": [
    "parent1 = selected_population[1]\n",
    "parent2 = selected_population[2]\n",
    "child1, child2 = crossover(parent1, parent2, pc=0.7)\n",
    "print(parent1, '-->', child1)\n",
    "print(parent2, '-->', child2)"
   ]
  },
  {
   "cell_type": "code",
   "execution_count": null,
   "id": "675f8ecf",
   "metadata": {},
   "outputs": [],
   "source": [
    "def mutation(individual, pm):\n",
    "    r=np.random.random()\n",
    "    if r < pm:\n",
    "        m=np.random.randint(8)#1-7\n",
    "        individual[m]=np.random.randint(8)\n",
    "    return individual"
   ]
  },
  {
   "cell_type": "code",
   "execution_count": null,
   "id": "31baafb7",
   "metadata": {},
   "outputs": [],
   "source": [
    "print(child1)\n",
    "child_copy = child1.copy()\n",
    "mutation(child_copy, pm=0.5)\n",
    "print(child_copy)"
   ]
  },
  {
   "cell_type": "code",
   "execution_count": null,
   "id": "cef43937",
   "metadata": {},
   "outputs": [],
   "source": [
    "def crossover_mutation(selected_pop, pc, pm):\n",
    "    N = len(selected_pop)\n",
    "    new_pop = np.empty((N, 8), dtype=int)\n",
    "    for i in range(0, N, 2):\n",
    "        parent1 = selected_pop[i]\n",
    "        parent2 = selected_pop[i+1]\n",
    "        child1, child2 = crossover(parent1, parent2, pc)\n",
    "        mutation(child1, pm)\n",
    "        mutation(child2, pm)\n",
    "        new_pop[i] = child1\n",
    "        new_pop[i+1] = child2\n",
    "    return new_pop"
   ]
  },
  {
   "cell_type": "code",
   "execution_count": null,
   "id": "f9157885-af9d-43f2-b00e-05fdbea7d0a6",
   "metadata": {},
   "outputs": [],
   "source": [
    "import matplotlib.pyplot as plt"
   ]
  },
  {
   "cell_type": "code",
   "execution_count": null,
   "id": "a9f8c8cd",
   "metadata": {},
   "outputs": [],
   "source": [
    "def eight_queens(pop_size, max_generations, pc=0.7, pm=0.01):\n",
    "\n",
    "    # Initial population\n",
    "    population = init_pop(pop_size)\n",
    "    \n",
    "    # Initialize best fitness, and best solution\n",
    "    best_fitness_overall = float('-inf')\n",
    "    best_solution = None\n",
    "\n",
    "    # Initialize average fitness values\n",
    "    avg_fitness_values = []\n",
    "\n",
    "    # Repeat for max_generations iterations\n",
    "    for i_gen in range(max_generations):\n",
    "\n",
    "        # Calculate fitness\n",
    "        fitness_vals = calc_fitness(population)\n",
    "\n",
    "        # Store average fitness\n",
    "        avg_fitness_values.append(fitness_vals.mean())\n",
    "\n",
    "        # Keep track of the best fitness and best solution\n",
    "        best_i = fitness_vals.argmax()\n",
    "        best_fitness = fitness_vals[best_i]\n",
    "        if best_fitness > best_fitness_overall:\n",
    "            best_fitness_overall = best_fitness\n",
    "            best_solution = population[best_i]\n",
    "\n",
    "        # Print iteration number and best fitness\n",
    "        print('\\ri_gen = {:06}  f={:03}'.format(i_gen, best_fitness_overall), end='')\n",
    "\n",
    "        # Check optimal solution\n",
    "        if best_fitness == 0:\n",
    "            print('\\nFound optimal solution')\n",
    "            break\n",
    "\n",
    "        # Selection\n",
    "        selected_pop = selection(population, fitness_vals)\n",
    "\n",
    "        # Crossover and mutation\n",
    "        population = crossover_mutation(selected_pop, pc, pm)\n",
    "\n",
    "    # Plot average fitness curve\n",
    "    n_iterations = len(avg_fitness_values)\n",
    "    if n_iterations > 1:\n",
    "        plt.xlabel('Iteration')\n",
    "        plt.ylabel('Avg fitness')\n",
    "        plt.plot(list(range(n_iterations)), avg_fitness_values)\n",
    "        plt.show()\n",
    "    \n",
    "    # Print and return the best solution\n",
    "    print()\n",
    "    print('best solution:', best_solution)\n",
    "    return best_solution"
   ]
  },
  {
   "cell_type": "code",
   "execution_count": null,
   "id": "8794f6a8",
   "metadata": {},
   "outputs": [],
   "source": [
    "eight_queens(pop_size=1000, max_generations=10000, pc=0.7, pm=0.01)"
   ]
  },
  {
   "cell_type": "code",
   "execution_count": null,
   "id": "df0c2408",
   "metadata": {},
   "outputs": [],
   "source": []
  }
 ],
 "metadata": {
  "kernelspec": {
   "display_name": "Python 3 (ipykernel)",
   "language": "python",
   "name": "python3"
  },
  "language_info": {
   "codemirror_mode": {
    "name": "ipython",
    "version": 3
   },
   "file_extension": ".py",
   "mimetype": "text/x-python",
   "name": "python",
   "nbconvert_exporter": "python",
   "pygments_lexer": "ipython3",
   "version": "3.11.5"
  }
 },
 "nbformat": 4,
 "nbformat_minor": 5
}
