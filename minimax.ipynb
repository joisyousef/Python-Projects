{
 "cells": [
  {
   "cell_type": "code",
   "execution_count": 7,
   "id": "65843c8f",
   "metadata": {},
   "outputs": [],
   "source": [
    "import game"
   ]
  },
  {
   "cell_type": "code",
   "execution_count": 8,
   "id": "a9e4560f",
   "metadata": {},
   "outputs": [],
   "source": [
    "def minimax(state):\n",
    "    \n",
    "    if game.terminal(state):\n",
    "        return game.score(state)\n",
    "    \n",
    "    state_values = []\n",
    "    for action in game.available_actions(state):\n",
    "        next_state = game.next_state(state,action)\n",
    "        val = minimax(next_state)\n",
    "\n",
    "    if game.current_player(state) == 'X':\n",
    "        return max(state_values)\n",
    "    else:\n",
    "        return min(state_values)"
   ]
  },
  {
   "cell_type": "code",
   "execution_count": null,
   "id": "fcad763b",
   "metadata": {},
   "outputs": [],
   "source": [
    "state = game.initial_state()\n",
    "game.display(state)\n",
    "\n",
    "while not game.terminal(state):\n",
    "    player = game.current_player(state)\n",
    "    if player == 'X':\n",
    "        action = game.ai_action(state, minimax)\n",
    "        # action = game.human_action(state)\n",
    "    elif player == 'O':\n",
    "        action = game.human_action(state)\n",
    "    state = game.next_state(state, action)\n",
    "    game.display(state)\n",
    "\n",
    "game.show_winner(state)"
   ]
  },
  {
   "cell_type": "code",
   "execution_count": null,
   "id": "fadb8b47",
   "metadata": {},
   "outputs": [],
   "source": []
  }
 ],
 "metadata": {
  "kernelspec": {
   "display_name": "Python 3 (ipykernel)",
   "language": "python",
   "name": "python3"
  },
  "language_info": {
   "codemirror_mode": {
    "name": "ipython",
    "version": 3
   },
   "file_extension": ".py",
   "mimetype": "text/x-python",
   "name": "python",
   "nbconvert_exporter": "python",
   "pygments_lexer": "ipython3",
   "version": "3.11.4"
  }
 },
 "nbformat": 4,
 "nbformat_minor": 5
}
